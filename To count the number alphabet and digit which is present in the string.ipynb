{
 "cells": [
  {
   "cell_type": "code",
   "execution_count": 2,
   "id": "c309a0fd-6bc1-4bdd-a5e0-4bdf8628d611",
   "metadata": {},
   "outputs": [
    {
     "name": "stdin",
     "output_type": "stream",
     "text": [
      " bca2024b\n"
     ]
    },
    {
     "name": "stdout",
     "output_type": "stream",
     "text": [
      "Alphabet: 4\n",
      "Digit: 4\n"
     ]
    }
   ],
   "source": [
    "#WRITE A PROGRAM TO COUNT THE NUMBER ALPHABET AND DIGIT WHICH IS PRESENT I GIVEN STRING \n",
    "#HINT:\n",
    "#---->isdigit()\n",
    "#---->isalpha()\n",
    "#eg:bca2024b\n",
    "\n",
    "text = str(input())\n",
    "\n",
    "digit = alphabet = 0\n",
    "\n",
    "for i in text:\n",
    "    if i.isalpha():\n",
    "        alphabet+=1\n",
    "    elif i.isdigit():\n",
    "        digit+=1\n",
    "\n",
    "print(\"Alphabet:\",alphabet)\n",
    "print(\"Digit:\", digit)"
   ]
  }
 ],
 "metadata": {
  "kernelspec": {
   "display_name": "Python 3 (ipykernel)",
   "language": "python",
   "name": "python3"
  },
  "language_info": {
   "codemirror_mode": {
    "name": "ipython",
    "version": 3
   },
   "file_extension": ".py",
   "mimetype": "text/x-python",
   "name": "python",
   "nbconvert_exporter": "python",
   "pygments_lexer": "ipython3",
   "version": "3.12.4"
  }
 },
 "nbformat": 4,
 "nbformat_minor": 5
}
