{
 "cells": [
  {
   "cell_type": "code",
   "execution_count": 2,
   "id": "8ce5e1c6-bc09-489d-b33d-765a2acb3d7c",
   "metadata": {},
   "outputs": [
    {
     "name": "stdin",
     "output_type": "stream",
     "text": [
      " BANGLORE\n"
     ]
    },
    {
     "name": "stdout",
     "output_type": "stream",
     "text": [
      "B\n",
      "AB\n",
      "NAB\n",
      "GNAB\n",
      "LGNAB\n",
      "OLGNAB\n",
      "ROLGNAB\n",
      "EROLGNAB\n",
      "not palindrome\n"
     ]
    }
   ],
   "source": [
    "#WRITE A PROGRAM FOR REVERSING A STRING AND CHECK WEATHER ITS PALINDROME OR NOT \n",
    "#hint:\n",
    "#    rev string - for loop\n",
    "#    palindrome check - use if condition\n",
    "\n",
    "text = str(input())\n",
    "\n",
    "rev_text=\"\"\n",
    "for j in text:\n",
    "    rev_text=j+rev_text\n",
    "    print(rev_text)\n",
    "\n",
    "if text==rev_text:\n",
    "    print(\"palindrome\")\n",
    "else:\n",
    "    print(\"not palindrome\")"
   ]
  }
 ],
 "metadata": {
  "kernelspec": {
   "display_name": "Python 3 (ipykernel)",
   "language": "python",
   "name": "python3"
  },
  "language_info": {
   "codemirror_mode": {
    "name": "ipython",
    "version": 3
   },
   "file_extension": ".py",
   "mimetype": "text/x-python",
   "name": "python",
   "nbconvert_exporter": "python",
   "pygments_lexer": "ipython3",
   "version": "3.12.4"
  }
 },
 "nbformat": 4,
 "nbformat_minor": 5
}
